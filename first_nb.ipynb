{
  "nbformat": 4,
  "nbformat_minor": 0,
  "metadata": {
    "colab": {
      "provenance": [],
      "toc_visible": true,
      "authorship_tag": "ABX9TyM1lPTmEf/rdJ7eu4bOdQN3",
      "include_colab_link": true
    },
    "kernelspec": {
      "name": "python3",
      "display_name": "Python 3"
    },
    "language_info": {
      "name": "python"
    }
  },
  "cells": [
    {
      "cell_type": "markdown",
      "metadata": {
        "id": "view-in-github",
        "colab_type": "text"
      },
      "source": [
        "<a href=\"https://colab.research.google.com/github/JamshidSalimov/Dental-clinec/blob/master/first_nb.ipynb\" target=\"_parent\"><img src=\"https://colab.research.google.com/assets/colab-badge.svg\" alt=\"Open In Colab\"/></a>"
      ]
    },
    {
      "cell_type": "code",
      "execution_count": 3,
      "metadata": {
        "colab": {
          "base_uri": "https://localhost:8080/"
        },
        "id": "lMwCauvHN-cz",
        "outputId": "c090da76-ce94-4df0-b34f-e073f0e1eaff"
      },
      "outputs": [
        {
          "output_type": "stream",
          "name": "stdout",
          "text": [
            "hello worlddddd\n"
          ]
        }
      ],
      "source": [
        "print(\"hello worlddddd\")"
      ]
    },
    {
      "cell_type": "markdown",
      "source": [
        "#Heading\n",
        " \n",
        "\n",
        "1.   [kirish](https://kun.uz)\n",
        "2.   [muqaddima](https://tun.uz)\n",
        "\n"
      ],
      "metadata": {
        "id": "w0noT_JVaB9Z"
      }
    },
    {
      "cell_type": "code",
      "source": [],
      "metadata": {
        "id": "QFd9ROFTbQJo"
      },
      "execution_count": null,
      "outputs": []
    }
  ]
}